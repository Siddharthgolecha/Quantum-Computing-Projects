{
  "nbformat": 4,
  "nbformat_minor": 0,
  "metadata": {
    "kernelspec": {
      "display_name": "Python 3",
      "language": "python",
      "name": "python3"
    },
    "language_info": {
      "codemirror_mode": {
        "name": "ipython",
        "version": 3
      },
      "file_extension": ".py",
      "mimetype": "text/x-python",
      "name": "python",
      "nbconvert_exporter": "python",
      "pygments_lexer": "ipython3",
      "version": "3.8.3"
    },
    "colab": {
      "name": "a0d5bc6a-e-W1_D3_Q2.ipynb",
      "provenance": [],
      "include_colab_link": true
    }
  },
  "cells": [
    {
      "cell_type": "markdown",
      "metadata": {
        "id": "view-in-github",
        "colab_type": "text"
      },
      "source": [
        "<a href=\"https://colab.research.google.com/github/Siddharthgolecha/Quantum-Computing-Projects/blob/master/a0d5bc6a_e_W1_D3_Q2.ipynb\" target=\"_parent\"><img src=\"https://colab.research.google.com/assets/colab-badge.svg\" alt=\"Open In Colab\"/></a>"
      ]
    },
    {
      "cell_type": "markdown",
      "metadata": {
        "id": "svuOWazUN5zL",
        "colab_type": "text"
      },
      "source": [
        "<img src=\"https://s3-ap-southeast-1.amazonaws.com/he-public-data/wordmark_black65ee464.png\" width=\"700\">"
      ]
    },
    {
      "cell_type": "markdown",
      "metadata": {
        "id": "Okp8XJz6N5zO",
        "colab_type": "text"
      },
      "source": [
        "# Day 3 - Question 2"
      ]
    },
    {
      "cell_type": "markdown",
      "metadata": {
        "id": "uDvZUqEjN5zQ",
        "colab_type": "text"
      },
      "source": [
        "**Welcome to Day 3 Question 2 of Quantum Challenge India!**\n",
        "\n",
        "**Today's Reading Assignment:**\n",
        "\n",
        "- [Qiskit Textbook Chapter 1.2 - The Atoms of Computation](https://qiskit.org/textbook/ch-states/atoms-computation.html)\n",
        "- [Qiskit Textbook Chapter 2.2 - Multi Qubits and Entangled States](https://qiskit.org/textbook/ch-gates/multiple-qubits-entangled-states.html)\n",
        "\n",
        "**Additional Resources:**\n",
        "\n",
        "- [Qiskit Youtube - One Minute Qiskit](https://www.youtube.com/playlist?list=PLOFEBzvs-VvpOCmJ9BonUhf7NYB4d1p0e)\n",
        "- [Qiskit Youtube - Coding With Qiskit (Ep-5)](https://www.youtube.com/playlist?list=PLOFEBzvs-Vvp2xg9-POLJhQwtVktlYGbY)\n",
        "- [Qiskit Documentation - Terra](https://qiskit.org/documentation/apidoc/terra.html)\n",
        "- [Qiskit Tutorials](https://qiskit.org/documentation/tutorials/circuits/index.html)\n",
        "\n",
        "\n",
        "\n",
        "In [Chapter 2, Section 2.2](https://qiskit.org/textbook/ch-gates/multiple-qubits-entangled-states.html), we've learnt how to build one of the bell states, i.e, $|\\phi_{+}\\rangle$, but there are three more. \n",
        "\n",
        "Here are all the bell states for your reference: \n",
        "\n",
        "$$|\\phi_{+}\\rangle = \\frac{1}{\\sqrt{2}}(|00\\rangle+|11\\rangle)$$ \n",
        "$$|\\phi_{-}\\rangle = \\frac{1}{\\sqrt{2}}(|00\\rangle-|11\\rangle)$$ \n",
        "$$|\\psi_{+}\\rangle = \\frac{1}{\\sqrt{2}}(|01\\rangle+|10\\rangle)$$ \n",
        "$$|\\psi_{-}\\rangle = \\frac{1}{\\sqrt{2}}(|01\\rangle-|10\\rangle)$$ \n",
        "\n",
        "\n",
        "## Question: Create the specific Bell state given below\n",
        "\n",
        "$$|\\psi_{-}\\rangle = \\frac{1}{\\sqrt{2}}(|01\\rangle-|10\\rangle)$$ \n"
      ]
    },
    {
      "cell_type": "code",
      "metadata": {
        "id": "LuHvb7HtN5zR",
        "colab_type": "code",
        "colab": {
          "base_uri": "https://localhost:8080/",
          "height": 1000
        },
        "outputId": "855a24fc-46e5-4947-b333-55a1711c2e95"
      },
      "source": [
        "!pip install --upgrade qiskit==0.19.6 \n",
        "!pip install --upgrade numpy==1.18.5\n",
        "!pip install --upgrade matplotlib==3.2.0                                                                                                                                                                %matplotlib inline\n",
        "\n",
        "# defining a magic function for creating the submission file.\n",
        "from IPython.core.magic import register_cell_magic\n",
        "@register_cell_magic\n",
        "def write_and_run(line, cell):\n",
        "    argz = line.split()\n",
        "    file = argz[-1]\n",
        "    mode = 'w'\n",
        "    with open(file, mode) as f:\n",
        "        f.write(cell)\n",
        "    get_ipython().run_cell(cell)\n",
        "    \n",
        "# Importing Qiskit visualization libraries \n",
        "from qiskit.tools.jupyter import *\n",
        "from qiskit.visualization import *"
      ],
      "execution_count": 1,
      "outputs": [
        {
          "output_type": "stream",
          "text": [
            "Collecting qiskit==0.19.6\n",
            "  Downloading https://files.pythonhosted.org/packages/38/4e/f275e4b0bc1b8d1c61d8088d693e480fa396c8f3d32e516655f25c510792/qiskit-0.19.6.tar.gz\n",
            "Collecting qiskit-terra==0.14.2\n",
            "\u001b[?25l  Downloading https://files.pythonhosted.org/packages/64/84/47c2b87551fe81a435eb4224991c1713d538b0605bda4e3c737f4a9f2cc2/qiskit_terra-0.14.2-cp36-cp36m-manylinux2010_x86_64.whl (6.7MB)\n",
            "\u001b[K     |████████████████████████████████| 6.7MB 1.5MB/s \n",
            "\u001b[?25hCollecting qiskit-aer==0.5.2\n",
            "\u001b[?25l  Downloading https://files.pythonhosted.org/packages/45/6f/2d269684891b634cce6ddb5684fd004c7b6bf986cec8544f4b6f495c8b99/qiskit_aer-0.5.2-cp36-cp36m-manylinux2010_x86_64.whl (23.3MB)\n",
            "\u001b[K     |████████████████████████████████| 23.3MB 97kB/s \n",
            "\u001b[?25hCollecting qiskit-ibmq-provider==0.7.2\n",
            "\u001b[?25l  Downloading https://files.pythonhosted.org/packages/92/1f/0c6b290064a471a8a9c1e3366367b46d320efdad6b730eadefbd1f3c4eb0/qiskit_ibmq_provider-0.7.2-py3-none-any.whl (155kB)\n",
            "\u001b[K     |████████████████████████████████| 163kB 39.6MB/s \n",
            "\u001b[?25hCollecting qiskit-ignis==0.3.3\n",
            "\u001b[?25l  Downloading https://files.pythonhosted.org/packages/06/5e/273c6f99b4b64dcbab37990627778ed38d8f52e8060db7fc67f38f09fbb2/qiskit_ignis-0.3.3-py3-none-any.whl (179kB)\n",
            "\u001b[K     |████████████████████████████████| 184kB 48.6MB/s \n",
            "\u001b[?25hCollecting qiskit-aqua==0.7.3\n",
            "\u001b[?25l  Downloading https://files.pythonhosted.org/packages/89/18/00c426f06abfa0461a4d794d833c036f8ac5f88062f368d01f739ee1c032/qiskit_aqua-0.7.3-py3-none-any.whl (1.9MB)\n",
            "\u001b[K     |████████████████████████████████| 1.9MB 43.3MB/s \n",
            "\u001b[?25hRequirement already satisfied, skipping upgrade: dill>=0.3 in /usr/local/lib/python3.6/dist-packages (from qiskit-terra==0.14.2->qiskit==0.19.6) (0.3.2)\n",
            "Requirement already satisfied, skipping upgrade: scipy>=1.4 in /usr/local/lib/python3.6/dist-packages (from qiskit-terra==0.14.2->qiskit==0.19.6) (1.4.1)\n",
            "Collecting retworkx>=0.3.2\n",
            "\u001b[?25l  Downloading https://files.pythonhosted.org/packages/6c/80/d8b6add5142ed20ad822b2cadb30bb3cfe57e34ff73a0b56cf75e8343c71/retworkx-0.4.0-cp36-cp36m-manylinux2010_x86_64.whl (956kB)\n",
            "\u001b[K     |████████████████████████████████| 962kB 14.8MB/s \n",
            "\u001b[?25hCollecting fastjsonschema>=2.10\n",
            "  Downloading https://files.pythonhosted.org/packages/c7/47/e860ab658dc2da844e6fdb76b12f6b3e14fbcb62fdd04f3e1c572bca20e1/fastjsonschema-2.14.5-py3-none-any.whl\n",
            "Requirement already satisfied, skipping upgrade: jsonschema>=2.6 in /usr/local/lib/python3.6/dist-packages (from qiskit-terra==0.14.2->qiskit==0.19.6) (2.6.0)\n",
            "Collecting ply>=3.10\n",
            "\u001b[?25l  Downloading https://files.pythonhosted.org/packages/a3/58/35da89ee790598a0700ea49b2a66594140f44dec458c07e8e3d4979137fc/ply-3.11-py2.py3-none-any.whl (49kB)\n",
            "\u001b[K     |████████████████████████████████| 51kB 5.6MB/s \n",
            "\u001b[?25hCollecting marshmallow<4,>=3\n",
            "\u001b[?25l  Downloading https://files.pythonhosted.org/packages/a6/11/f824483fcfc4164d733c0a242cc01f7e3b153561500a6a69bba217c9f0f6/marshmallow-3.7.1-py2.py3-none-any.whl (45kB)\n",
            "\u001b[K     |████████████████████████████████| 51kB 5.8MB/s \n",
            "\u001b[?25hCollecting sympy>=1.3\n",
            "\u001b[?25l  Downloading https://files.pythonhosted.org/packages/e0/1f/8cbbf698e853019ac3dc5d60ca8f6be4ace4542b2f05f7b62949617fc98e/sympy-1.6.2-py3-none-any.whl (5.8MB)\n",
            "\u001b[K     |████████████████████████████████| 5.8MB 34.5MB/s \n",
            "\u001b[?25hRequirement already satisfied, skipping upgrade: numpy>=1.17 in /usr/local/lib/python3.6/dist-packages (from qiskit-terra==0.14.2->qiskit==0.19.6) (1.18.5)\n",
            "Requirement already satisfied, skipping upgrade: networkx>=2.2; python_version > \"3.5\" in /usr/local/lib/python3.6/dist-packages (from qiskit-terra==0.14.2->qiskit==0.19.6) (2.5)\n",
            "Requirement already satisfied, skipping upgrade: python-dateutil>=2.8.0 in /usr/local/lib/python3.6/dist-packages (from qiskit-terra==0.14.2->qiskit==0.19.6) (2.8.1)\n",
            "Collecting python-constraint>=1.4\n",
            "  Downloading https://files.pythonhosted.org/packages/37/8b/5f1bc2734ca611943e1d6733ee244238679f6410a10cd45ede55a61a8402/python-constraint-1.4.0.tar.bz2\n",
            "Requirement already satisfied, skipping upgrade: psutil>=5 in /usr/local/lib/python3.6/dist-packages (from qiskit-terra==0.14.2->qiskit==0.19.6) (5.4.8)\n",
            "Collecting marshmallow-polyfield<6,>=5.7\n",
            "  Downloading https://files.pythonhosted.org/packages/0c/7e/ceb805d05cd03709b8de122b4ac1e736c4eb91d05281ad2a2bcb484accef/marshmallow-polyfield-5.9.tar.gz\n",
            "Collecting pybind11>=2.4\n",
            "\u001b[?25l  Downloading https://files.pythonhosted.org/packages/89/e3/d576f6f02bc75bacbc3d42494e8f1d063c95617d86648dba243c2cb3963e/pybind11-2.5.0-py2.py3-none-any.whl (296kB)\n",
            "\u001b[K     |████████████████████████████████| 296kB 43.9MB/s \n",
            "\u001b[?25hRequirement already satisfied, skipping upgrade: cython>=0.27.1 in /usr/local/lib/python3.6/dist-packages (from qiskit-aer==0.5.2->qiskit==0.19.6) (0.29.21)\n",
            "Requirement already satisfied, skipping upgrade: urllib3>=1.21.1 in /usr/local/lib/python3.6/dist-packages (from qiskit-ibmq-provider==0.7.2->qiskit==0.19.6) (1.24.3)\n",
            "Requirement already satisfied, skipping upgrade: requests>=2.19 in /usr/local/lib/python3.6/dist-packages (from qiskit-ibmq-provider==0.7.2->qiskit==0.19.6) (2.23.0)\n",
            "Collecting websockets<8,>=7\n",
            "\u001b[?25l  Downloading https://files.pythonhosted.org/packages/43/71/8bfa882b9c502c36e5c9ef6732969533670d2b039cbf95a82ced8f762b80/websockets-7.0-cp36-cp36m-manylinux1_x86_64.whl (63kB)\n",
            "\u001b[K     |████████████████████████████████| 71kB 7.9MB/s \n",
            "\u001b[?25hCollecting requests-ntlm>=1.1.0\n",
            "  Downloading https://files.pythonhosted.org/packages/03/4b/8b9a1afde8072c4d5710d9fa91433d504325821b038e00237dc8d6d833dc/requests_ntlm-1.1.0-py2.py3-none-any.whl\n",
            "Collecting nest-asyncio!=1.1.0,>=1.0.0\n",
            "  Downloading https://files.pythonhosted.org/packages/a0/44/f2983c5be9803b08f89380229997e92c4bdd7a4a510ccee565b599d1bdc8/nest_asyncio-1.4.0-py3-none-any.whl\n",
            "Requirement already satisfied, skipping upgrade: setuptools>=40.1.0 in /usr/local/lib/python3.6/dist-packages (from qiskit-ignis==0.3.3->qiskit==0.19.6) (49.6.0)\n",
            "Requirement already satisfied, skipping upgrade: scikit-learn>=0.17 in /usr/local/lib/python3.6/dist-packages (from qiskit-ignis==0.3.3->qiskit==0.19.6) (0.22.2.post1)\n",
            "Collecting docplex\n",
            "\u001b[?25l  Downloading https://files.pythonhosted.org/packages/9b/76/ebf5b75a25c4357c9a4758cae7fea778dd7f282b83c2f22e150dc7e3c852/docplex-2.15.194.tar.gz (582kB)\n",
            "\u001b[K     |████████████████████████████████| 583kB 40.0MB/s \n",
            "\u001b[?25hCollecting dlx\n",
            "  Downloading https://files.pythonhosted.org/packages/54/c0/b8fb5bb727e983b6f5251433ef941b48f38c65bb0bd6ec509e9185bcd406/dlx-1.0.4.tar.gz\n",
            "Collecting pyscf; sys_platform != \"win32\"\n",
            "\u001b[?25l  Downloading https://files.pythonhosted.org/packages/b0/d0/9858aa09bc330c31025be64c385881403cbe178c44bf6fb5880bd84b3639/pyscf-1.7.4-cp36-cp36m-manylinux1_x86_64.whl (26.0MB)\n",
            "\u001b[K     |████████████████████████████████| 26.1MB 113kB/s \n",
            "\u001b[?25hRequirement already satisfied, skipping upgrade: fastdtw in /usr/local/lib/python3.6/dist-packages (from qiskit-aqua==0.7.3->qiskit==0.19.6) (0.3.4)\n",
            "Requirement already satisfied, skipping upgrade: h5py in /usr/local/lib/python3.6/dist-packages (from qiskit-aqua==0.7.3->qiskit==0.19.6) (2.10.0)\n",
            "Collecting quandl\n",
            "  Downloading https://files.pythonhosted.org/packages/1b/29/185269dbd2e2698c8098b35c52ce73a2c52cf76163e709f9f7789d03ebbb/Quandl-3.5.2-py2.py3-none-any.whl\n",
            "Requirement already satisfied, skipping upgrade: mpmath>=0.19 in /usr/local/lib/python3.6/dist-packages (from sympy>=1.3->qiskit-terra==0.14.2->qiskit==0.19.6) (1.1.0)\n",
            "Requirement already satisfied, skipping upgrade: decorator>=4.3.0 in /usr/local/lib/python3.6/dist-packages (from networkx>=2.2; python_version > \"3.5\"->qiskit-terra==0.14.2->qiskit==0.19.6) (4.4.2)\n",
            "Requirement already satisfied, skipping upgrade: six>=1.5 in /usr/local/lib/python3.6/dist-packages (from python-dateutil>=2.8.0->qiskit-terra==0.14.2->qiskit==0.19.6) (1.15.0)\n",
            "Requirement already satisfied, skipping upgrade: chardet<4,>=3.0.2 in /usr/local/lib/python3.6/dist-packages (from requests>=2.19->qiskit-ibmq-provider==0.7.2->qiskit==0.19.6) (3.0.4)\n",
            "Requirement already satisfied, skipping upgrade: idna<3,>=2.5 in /usr/local/lib/python3.6/dist-packages (from requests>=2.19->qiskit-ibmq-provider==0.7.2->qiskit==0.19.6) (2.10)\n",
            "Requirement already satisfied, skipping upgrade: certifi>=2017.4.17 in /usr/local/lib/python3.6/dist-packages (from requests>=2.19->qiskit-ibmq-provider==0.7.2->qiskit==0.19.6) (2020.6.20)\n",
            "Collecting ntlm-auth>=1.0.2\n",
            "  Downloading https://files.pythonhosted.org/packages/ff/84/97c550164b54942b0e908c31ef09d9469f3ba4cd7332a671e2125732f63b/ntlm_auth-1.5.0-py2.py3-none-any.whl\n",
            "Collecting cryptography>=1.3\n",
            "\u001b[?25l  Downloading https://files.pythonhosted.org/packages/c0/9c/647e559a6e8be493dc2a7a5d15d26cb501ca60ec299b356f23839a673a83/cryptography-3.1-cp35-abi3-manylinux2010_x86_64.whl (2.6MB)\n",
            "\u001b[K     |████████████████████████████████| 2.6MB 41.2MB/s \n",
            "\u001b[?25hRequirement already satisfied, skipping upgrade: joblib>=0.11 in /usr/local/lib/python3.6/dist-packages (from scikit-learn>=0.17->qiskit-ignis==0.3.3->qiskit==0.19.6) (0.16.0)\n",
            "Collecting inflection>=0.3.1\n",
            "  Downloading https://files.pythonhosted.org/packages/59/91/aa6bde563e0085a02a435aa99b49ef75b0a4b062635e606dab23ce18d720/inflection-0.5.1-py2.py3-none-any.whl\n",
            "Requirement already satisfied, skipping upgrade: more-itertools in /usr/local/lib/python3.6/dist-packages (from quandl->qiskit-aqua==0.7.3->qiskit==0.19.6) (8.4.0)\n",
            "Requirement already satisfied, skipping upgrade: pandas>=0.14 in /usr/local/lib/python3.6/dist-packages (from quandl->qiskit-aqua==0.7.3->qiskit==0.19.6) (1.0.5)\n",
            "Requirement already satisfied, skipping upgrade: cffi!=1.11.3,>=1.8 in /usr/local/lib/python3.6/dist-packages (from cryptography>=1.3->requests-ntlm>=1.1.0->qiskit-ibmq-provider==0.7.2->qiskit==0.19.6) (1.14.2)\n",
            "Requirement already satisfied, skipping upgrade: pytz>=2017.2 in /usr/local/lib/python3.6/dist-packages (from pandas>=0.14->quandl->qiskit-aqua==0.7.3->qiskit==0.19.6) (2018.9)\n",
            "Requirement already satisfied, skipping upgrade: pycparser in /usr/local/lib/python3.6/dist-packages (from cffi!=1.11.3,>=1.8->cryptography>=1.3->requests-ntlm>=1.1.0->qiskit-ibmq-provider==0.7.2->qiskit==0.19.6) (2.20)\n",
            "Building wheels for collected packages: qiskit, python-constraint, marshmallow-polyfield, docplex, dlx\n",
            "  Building wheel for qiskit (setup.py) ... \u001b[?25l\u001b[?25hdone\n",
            "  Created wheel for qiskit: filename=qiskit-0.19.6-cp36-none-any.whl size=3019 sha256=fa96f1878a8091b9407e88230e604119c600db8912fc7ccf317b45e281858106\n",
            "  Stored in directory: /root/.cache/pip/wheels/35/45/55/8b82d355edf738ebd6d7f261f17ef1e7ca9ffc7d139c878e10\n",
            "  Building wheel for python-constraint (setup.py) ... \u001b[?25l\u001b[?25hdone\n",
            "  Created wheel for python-constraint: filename=python_constraint-1.4.0-py2.py3-none-any.whl size=24080 sha256=0531cc236542cfecdda127d7be80b5fc43cbcc11dbab7243ade4eb69d3a964f2\n",
            "  Stored in directory: /root/.cache/pip/wheels/34/31/15/7b070b25d0a549d20ce2e9fe6d727471c2c61ef904720fd40c\n",
            "  Building wheel for marshmallow-polyfield (setup.py) ... \u001b[?25l\u001b[?25hdone\n",
            "  Created wheel for marshmallow-polyfield: filename=marshmallow_polyfield-5.9-cp36-none-any.whl size=8537 sha256=aaf4d8aae2ce78af57ebc8f9af40610d94fb616786ae78817ff0da11d999d6d9\n",
            "  Stored in directory: /root/.cache/pip/wheels/69/27/3e/7472f75eab2db111aa387715fe009af15899459517fc1a1906\n",
            "  Building wheel for docplex (setup.py) ... \u001b[?25l\u001b[?25hdone\n",
            "  Created wheel for docplex: filename=docplex-2.15.194-cp36-none-any.whl size=645115 sha256=4bd356bda1e7773f9309d9fcfe9b9c1da542afe961e3247bfc43617a50d96e54\n",
            "  Stored in directory: /root/.cache/pip/wheels/ce/fa/5d/8f4d5fed1b8edb72e453cb2ac6fb75c6776b49d7174eb70457\n",
            "  Building wheel for dlx (setup.py) ... \u001b[?25l\u001b[?25hdone\n",
            "  Created wheel for dlx: filename=dlx-1.0.4-cp36-none-any.whl size=5710 sha256=8f4f2e6b2bcfbcf5cf29d2041de02f40b4f083f6b60408a4e69606fe394cce31\n",
            "  Stored in directory: /root/.cache/pip/wheels/bb/ba/15/fdd0deb104df3254912998150ba9245668db06b00af5912d1a\n",
            "Successfully built qiskit python-constraint marshmallow-polyfield docplex dlx\n",
            "Installing collected packages: retworkx, fastjsonschema, ply, marshmallow, sympy, python-constraint, marshmallow-polyfield, qiskit-terra, pybind11, qiskit-aer, websockets, ntlm-auth, cryptography, requests-ntlm, nest-asyncio, qiskit-ibmq-provider, qiskit-ignis, docplex, dlx, pyscf, inflection, quandl, qiskit-aqua, qiskit\n",
            "  Found existing installation: sympy 1.1.1\n",
            "    Uninstalling sympy-1.1.1:\n",
            "      Successfully uninstalled sympy-1.1.1\n",
            "Successfully installed cryptography-3.1 dlx-1.0.4 docplex-2.15.194 fastjsonschema-2.14.5 inflection-0.5.1 marshmallow-3.7.1 marshmallow-polyfield-5.9 nest-asyncio-1.4.0 ntlm-auth-1.5.0 ply-3.11 pybind11-2.5.0 pyscf-1.7.4 python-constraint-1.4.0 qiskit-0.19.6 qiskit-aer-0.5.2 qiskit-aqua-0.7.3 qiskit-ibmq-provider-0.7.2 qiskit-ignis-0.3.3 qiskit-terra-0.14.2 quandl-3.5.2 requests-ntlm-1.1.0 retworkx-0.4.0 sympy-1.6.2 websockets-7.0\n",
            "Requirement already up-to-date: numpy==1.18.5 in /usr/local/lib/python3.6/dist-packages (1.18.5)\n",
            "\u001b[31mERROR: Invalid requirement: '%matplotlib'\u001b[0m\n"
          ],
          "name": "stdout"
        }
      ]
    },
    {
      "cell_type": "markdown",
      "metadata": {
        "id": "aDpbZXkHN5za",
        "colab_type": "text"
      },
      "source": [
        "Now that we have imported what we require lets build our circuit in the `build_state()` function where we have already initialized a `QuantumCircuit` for two qubits. Your task is to add necessary gates as specified in the question and return the quantum circuit. In the case that you require classes that haven't already been imported include them in the space given below for importing libraries.\n",
        "\n",
        "**Note:** Do not change the name of the function `build_state()`. "
      ]
    },
    {
      "cell_type": "code",
      "metadata": {
        "id": "0u_pR6NIN5zb",
        "colab_type": "code",
        "colab": {}
      },
      "source": [
        "%%write_and_run answer_day3_question2.py\n",
        "\n",
        "### WRITE YOUR CODE BETWEEN THESE LINES - START\n",
        "    \n",
        "# import libraries that are used in the function below.\n",
        "from qiskit import QuantumCircuit\n",
        "import numpy as np\n",
        "from math import pi, sqrt\n",
        "    \n",
        "### WRITE YOUR CODE BETWEEN THESE LINES - END\n",
        "\n",
        "def build_state():\n",
        "    \n",
        "    # create a quantum circuit on two qubits\n",
        "    circuit = QuantumCircuit(2)\n",
        "    \n",
        "    ### WRITE YOUR CODE BETWEEN THESE LINES - START\n",
        "    \n",
        "    # apply necessary gates\n",
        "    circuit.initialize([0,1],0)\n",
        "    circuit.initialize([0,1],1)\n",
        "    # Apply H-gate to the first:\n",
        "    circuit.h(0)\n",
        "    # Apply a CNOT:\n",
        "    circuit.cx(0,1)\n",
        "    \n",
        "    ### WRITE YOUR CODE BETWEEN THESE LINES - END\n",
        "    return circuit"
      ],
      "execution_count": 2,
      "outputs": []
    },
    {
      "cell_type": "markdown",
      "metadata": {
        "id": "y0kzmY-5N5zo",
        "colab_type": "text"
      },
      "source": [
        "**Circuit Diagram**"
      ]
    },
    {
      "cell_type": "code",
      "metadata": {
        "id": "k4L7ry1vN5zr",
        "colab_type": "code",
        "colab": {
          "base_uri": "https://localhost:8080/",
          "height": 92
        },
        "outputId": "931d995b-288b-4b05-c4c4-4007e414cd24"
      },
      "source": [
        "my_circuit = build_state()\n",
        "my_circuit.draw()"
      ],
      "execution_count": 3,
      "outputs": [
        {
          "output_type": "execute_result",
          "data": {
            "text/html": [
              "<pre style=\"word-wrap: normal;white-space: pre;background: #fff0;line-height: 1.1;font-family: &quot;Courier New&quot;,Courier,monospace\">     ┌─────────────────┐┌───┐     \n",
              "q_0: ┤ initialize(0,1) ├┤ H ├──■──\n",
              "     ├─────────────────┤└───┘┌─┴─┐\n",
              "q_1: ┤ initialize(0,1) ├─────┤ X ├\n",
              "     └─────────────────┘     └───┘</pre>"
            ],
            "text/plain": [
              "     ┌─────────────────┐┌───┐     \n",
              "q_0: ┤ initialize(0,1) ├┤ H ├──■──\n",
              "     ├─────────────────┤└───┘┌─┴─┐\n",
              "q_1: ┤ initialize(0,1) ├─────┤ X ├\n",
              "     └─────────────────┘     └───┘"
            ]
          },
          "metadata": {
            "tags": []
          },
          "execution_count": 3
        }
      ]
    },
    {
      "cell_type": "markdown",
      "metadata": {
        "id": "2KIF4WWVN5z4",
        "colab_type": "text"
      },
      "source": [
        "**Qsphere**"
      ]
    },
    {
      "cell_type": "markdown",
      "metadata": {
        "id": "OGjwhKlzN5z6",
        "colab_type": "text"
      },
      "source": [
        "After creating the circuit, let's run it on `statevector_simuator` and plot the statevector obtained on a [Qsphere](https://quantum-computing.ibm.com/docs/iqx/visualizations#q-sphere-view). Also checkout this 1 minute qiskit video on [Qsphere](https://www.youtube.com/watch?v=4SoK2h4a7us&t=4s) to know more about this multi-qubit visualization tool."
      ]
    },
    {
      "cell_type": "code",
      "metadata": {
        "id": "e-TCLKeIN5z7",
        "colab_type": "code",
        "colab": {
          "base_uri": "https://localhost:8080/",
          "height": 465
        },
        "outputId": "0ef08e0c-cbb7-4d2b-bd47-8412878e67b0"
      },
      "source": [
        "# importing the simulator\n",
        "from qiskit import execute, Aer\n",
        "\n",
        "backend = Aer.get_backend(\"statevector_simulator\")\n",
        "job = execute(my_circuit,backend=backend)\n",
        "statevector = job.result().get_statevector()\n",
        "plot_state_qsphere(statevector)"
      ],
      "execution_count": 4,
      "outputs": [
        {
          "output_type": "stream",
          "text": [
            "/usr/local/lib/python3.6/dist-packages/statsmodels/tools/_testing.py:19: FutureWarning: pandas.util.testing is deprecated. Use the functions in the public API at pandas.testing instead.\n",
            "  import pandas.util.testing as tm\n"
          ],
          "name": "stderr"
        },
        {
          "output_type": "execute_result",
          "data": {
            "image/png": "[encoded data removed]",
            "text/plain": [
              "<Figure size 504x504 with 2 Axes>"
            ]
          },
          "metadata": {
            "tags": []
          },
          "execution_count": 4
        }
      ]
    },
    {
      "cell_type": "markdown",
      "metadata": {
        "id": "j1CshFm_N50D",
        "colab_type": "text"
      },
      "source": [
        "### Submitting the Answer\n",
        "\n",
        "Once the solution is complete make sure you: \n",
        "\n",
        "* Step 1: **Run the notebook** to generate your submission file named **answer_day3_question2.py** which is a **python file (.py)**. \n",
        "* Step 2: **Upload answer_day3_question2.py** on the HackerEarth platform to get the solution graded and submitted. \n"
      ]
    }
  ]
}